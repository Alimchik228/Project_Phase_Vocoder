{
 "cells": [
  {
   "cell_type": "code",
   "execution_count": 54,
   "id": "fc47e651",
   "metadata": {},
   "outputs": [],
   "source": [
    "import wave\n",
    "from scipy.fft import fft, ifft\n",
    "from scipy.io import wavfile\n",
    "from glob import glob\n",
    "import numpy as np\n",
    "import matplotlib.pyplot as plt\n",
    "import sys"
   ]
  },
  {
   "cell_type": "code",
   "execution_count": 378,
   "id": "547885cc",
   "metadata": {},
   "outputs": [],
   "source": [
    "test_mono = glob(sys.argv[1])\n",
    "fn, x = wavfile.read(test_mono[0])\n",
    "x = np.array(x)"
   ]
  },
  {
   "cell_type": "code",
   "execution_count": 380,
   "id": "d1b5213e",
   "metadata": {},
   "outputs": [],
   "source": [
    "def hann(winSize):\n",
    "    M = winSize*2+1\n",
    "    wn = list()\n",
    "    for i in range(1,M):\n",
    "        wn.append(0.5 - 0.5*np.cos(2*np.pi*i/(M-1)))\n",
    "    return np.array(wn)"
   ]
  },
  {
   "cell_type": "code",
   "execution_count": 381,
   "id": "9a07a038",
   "metadata": {},
   "outputs": [],
   "source": [
    "def createFrames(x, hop, windowSize):\n",
    "\n",
    "    numberSlices = round((len(x)-windowSize)/hop)\n",
    "    \n",
    "    x = x[0:(numberSlices*hop+windowSize)]\n",
    "    \n",
    "    vectorFrames = np.ones((round(len(x)/hop),windowSize))\n",
    "    \n",
    "    for index in range(1, numberSlices+1):\n",
    "    \n",
    "        indexTimeStart = (index-1)*hop + 1\n",
    "        indexTimeEnd = (index-1)*hop + windowSize+1\n",
    "        \n",
    "        vectorFrames[index] = x[indexTimeStart:indexTimeEnd]\n",
    "    return np.array(vectorFrames), np.array(numberSlices)"
   ]
  },
  {
   "cell_type": "code",
   "execution_count": 382,
   "id": "9d4a4b19",
   "metadata": {},
   "outputs": [],
   "source": [
    "def fusionFrames(framesMatrix, hop):\n",
    "\n",
    "    sizeMatrix = framesMatrix.shape\n",
    "    \n",
    "    numberFrames = sizeMatrix[0]\n",
    "\n",
    "    sizeFrames = sizeMatrix[1]\n",
    "\n",
    "    vectorTime = np.zeros((numberFrames*hop-hop+sizeFrames,1))\n",
    "    \n",
    "    timeIndex = 0\n",
    "    vectorTime = np.array(vectorTime)\n",
    "    framesMatrix = np.array(framesMatrix)\n",
    "\n",
    "    for index in range(numberFrames):\n",
    "      \n",
    "        vectorTime[timeIndex:timeIndex+sizeFrames] += framesMatrix[index].reshape(-1, 1)\n",
    "        \n",
    "        timeIndex = timeIndex + hop\n",
    "\n",
    "    return vectorTime"
   ]
  },
  {
   "cell_type": "code",
   "execution_count": 436,
   "id": "9c19b8f0",
   "metadata": {},
   "outputs": [],
   "source": [
    "def pitchShift(inputVector, windowSize, hopSize, alpha):\n",
    "    x = inputVector\n",
    "    winSize = windowSize\n",
    "    hop = hopSize\n",
    "    hopOut = round(alpha*hop)\n",
    "    wn = hann(winSize)\n",
    "    wn = np.array(range(0,len(wn),2)) \n",
    "    #x = np.array([np.ones((hop*3, 1)), x])\n",
    "    y,numberFramesInput = createFrames(x,hop,winSize)\n",
    "    numberFramesOutput = numberFramesInput\n",
    "    outputy = np.ones((numberFramesOutput,winSize))\n",
    "    phaseCumulative = 0\n",
    "    previousPhase = 0\n",
    "    for index in range(numberFramesInput):\n",
    "        #Analysis\n",
    "        currentFrame = y[index,:]\n",
    "        \n",
    "        currentFrameWindowed = currentFrame * wn.T / np.sqrt(((winSize/hop)/2))\n",
    "        currentFrameWindowedFFT = fft(currentFrameWindowed)\n",
    "        magFrame = np.absolute(currentFrameWindowedFFT)\n",
    "        phaseFrame = np.angle(currentFrameWindowedFFT)\n",
    "        #Processing\n",
    "        deltaPhi = phaseFrame - previousPhase\n",
    "        previousPhase = phaseFrame\n",
    "\n",
    "        deltaPhiPrime = deltaPhi - hop * 2*np.pi*np.array(range(winSize))/winSize\n",
    "\n",
    "        deltaPhiPrimeMod = (deltaPhiPrime+np.pi)//(2*np.pi) - np.pi\n",
    "\n",
    "        trueFreq = 2*np.pi*np.array(range(winSize))/winSize + deltaPhiPrimeMod/hop\n",
    "        ##hui\n",
    "        phaseCumulative = phaseCumulative + hopOut * trueFreq\n",
    "        \n",
    "        ##Get the magnitude\n",
    "        outputMag = magFrame\n",
    "        \n",
    "        ##Produce output frame\n",
    "        mnimi =[complex(0, i) for i in phaseCumulative]\n",
    "        outputFrame = ifft(outputMag * np.exp(mnimi)).real\n",
    "        \n",
    "        ##Save frame that has been processed\n",
    "        outputy[index,:] = outputFrame * wn.T / np.sqrt(((winSize/hopOut)/2))\n",
    "        #outputy[index * hopOut:index * hopOut +winSize] += outputFrame * wn.T / np.sqrt(((winSize/hopOut)/2))\n",
    "        ##Finalize\n",
    "\n",
    "    ##Overlap add in a vector\n",
    "    \n",
    "    outputTimeStretched = fusionFrames(outputy,hopOut)\n",
    "    #print(outputTimeStretched.reshape)\n",
    "    #hi = (len(outputTimeStretched)-1)\n",
    "    #alpha2 = np.linspace(0, hi, int(hi/alpha))\n",
    "    ##Resample with linearinterpolation\n",
    "    #outputTime = np.interp(alpha2, np.array(range(len(outputTimeStretched))), outputTimeStretched.reshape(-1,))\n",
    "\n",
    "    ##Return the result\n",
    "   \n",
    "\n",
    "    return outputTimeStretched"
   ]
  },
  {
   "cell_type": "code",
   "execution_count": 440,
   "id": "d52b0e73",
   "metadata": {},
   "outputs": [],
   "source": [
    "y2 = pitchShift(x,1024,128,float(sys.argv[3]))"
   ]
  },
  {
   "cell_type": "code",
   "execution_count": 441,
   "id": "73b19ca1",
   "metadata": {},
   "outputs": [],
   "source": [
    "y2 = np.int16(y2*(32767/y2.max()))"
   ]
  },
  {
   "cell_type": "code",
   "execution_count": 443,
   "id": "f7ece66c",
   "metadata": {},
   "outputs": [],
   "source": [
    "wavfile.write(sys.argv[1], fn, y2)"
   ]
  }
 ],
 "metadata": {
  "kernelspec": {
   "display_name": "Python 3 (ipykernel)",
   "language": "python",
   "name": "python3"
  },
  "language_info": {
   "codemirror_mode": {
    "name": "ipython",
    "version": 3
   },
   "file_extension": ".py",
   "mimetype": "text/x-python",
   "name": "python",
   "nbconvert_exporter": "python",
   "pygments_lexer": "ipython3",
   "version": "3.9.7"
  }
 },
 "nbformat": 4,
 "nbformat_minor": 5
}
